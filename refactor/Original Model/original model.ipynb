{
 "cells": [
  {
   "cell_type": "code",
   "execution_count": 1,
   "metadata": {},
   "outputs": [
    {
     "name": "stdout",
     "output_type": "stream",
     "text": [
      "Requirement already satisfied: nltk in c:\\users\\foold\\appdata\\local\\programs\\python\\python310\\lib\\site-packages (3.7)\n",
      "Requirement already satisfied: tqdm in c:\\users\\foold\\appdata\\local\\programs\\python\\python310\\lib\\site-packages (from nltk) (4.64.1)\n",
      "Requirement already satisfied: click in c:\\users\\foold\\appdata\\local\\programs\\python\\python310\\lib\\site-packages (from nltk) (8.1.3)\n",
      "Requirement already satisfied: regex>=2021.8.3 in c:\\users\\foold\\appdata\\local\\programs\\python\\python310\\lib\\site-packages (from nltk) (2022.9.13)\n",
      "Requirement already satisfied: joblib in c:\\users\\foold\\appdata\\local\\programs\\python\\python310\\lib\\site-packages (from nltk) (1.1.0)\n",
      "Requirement already satisfied: colorama in c:\\users\\foold\\appdata\\roaming\\python\\python310\\site-packages (from click->nltk) (0.4.5)\n",
      "Note: you may need to restart the kernel to use updated packages.\n"
     ]
    },
    {
     "name": "stderr",
     "output_type": "stream",
     "text": [
      "WARNING: You are using pip version 22.0.4; however, version 22.2.2 is available.\n",
      "You should consider upgrading via the 'c:\\Users\\foold\\AppData\\Local\\Programs\\Python\\Python310\\python.exe -m pip install --upgrade pip' command.\n"
     ]
    },
    {
     "name": "stdout",
     "output_type": "stream",
     "text": [
      "Requirement already satisfied: numpy in c:\\users\\foold\\appdata\\local\\programs\\python\\python310\\lib\\site-packages (1.23.2)\n",
      "Note: you may need to restart the kernel to use updated packages.\n"
     ]
    },
    {
     "name": "stderr",
     "output_type": "stream",
     "text": [
      "WARNING: You are using pip version 22.0.4; however, version 22.2.2 is available.\n",
      "You should consider upgrading via the 'c:\\Users\\foold\\AppData\\Local\\Programs\\Python\\Python310\\python.exe -m pip install --upgrade pip' command.\n"
     ]
    },
    {
     "name": "stdout",
     "output_type": "stream",
     "text": [
      "Requirement already satisfied: keras in c:\\users\\foold\\appdata\\local\\programs\\python\\python310\\lib\\site-packages (2.10.0)\n",
      "Note: you may need to restart the kernel to use updated packages.\n"
     ]
    },
    {
     "name": "stderr",
     "output_type": "stream",
     "text": [
      "WARNING: You are using pip version 22.0.4; however, version 22.2.2 is available.\n",
      "You should consider upgrading via the 'c:\\Users\\foold\\AppData\\Local\\Programs\\Python\\Python310\\python.exe -m pip install --upgrade pip' command.\n"
     ]
    },
    {
     "name": "stdout",
     "output_type": "stream",
     "text": [
      "Requirement already satisfied: tensorflow in c:\\users\\foold\\appdata\\local\\programs\\python\\python310\\lib\\site-packages (2.10.0)\n",
      "Requirement already satisfied: google-pasta>=0.1.1 in c:\\users\\foold\\appdata\\local\\programs\\python\\python310\\lib\\site-packages (from tensorflow) (0.2.0)\n",
      "Requirement already satisfied: absl-py>=1.0.0 in c:\\users\\foold\\appdata\\local\\programs\\python\\python310\\lib\\site-packages (from tensorflow) (1.2.0)\n",
      "Requirement already satisfied: tensorboard<2.11,>=2.10 in c:\\users\\foold\\appdata\\local\\programs\\python\\python310\\lib\\site-packages (from tensorflow) (2.10.0)\n",
      "Requirement already satisfied: gast<=0.4.0,>=0.2.1 in c:\\users\\foold\\appdata\\local\\programs\\python\\python310\\lib\\site-packages (from tensorflow) (0.4.0)\n",
      "Requirement already satisfied: wrapt>=1.11.0 in c:\\users\\foold\\appdata\\local\\programs\\python\\python310\\lib\\site-packages (from tensorflow) (1.14.1)\n",
      "Requirement already satisfied: tensorflow-io-gcs-filesystem>=0.23.1 in c:\\users\\foold\\appdata\\local\\programs\\python\\python310\\lib\\site-packages (from tensorflow) (0.26.0)\n",
      "Requirement already satisfied: protobuf<3.20,>=3.9.2 in c:\\users\\foold\\appdata\\local\\programs\\python\\python310\\lib\\site-packages (from tensorflow) (3.19.4)\n",
      "Requirement already satisfied: packaging in c:\\users\\foold\\appdata\\local\\programs\\python\\python310\\lib\\site-packages (from tensorflow) (21.3)\n",
      "Requirement already satisfied: typing-extensions>=3.6.6 in c:\\users\\foold\\appdata\\local\\programs\\python\\python310\\lib\\site-packages (from tensorflow) (4.3.0)\n",
      "Requirement already satisfied: setuptools in c:\\users\\foold\\appdata\\local\\programs\\python\\python310\\lib\\site-packages (from tensorflow) (58.1.0)\n",
      "Requirement already satisfied: flatbuffers>=2.0 in c:\\users\\foold\\appdata\\local\\programs\\python\\python310\\lib\\site-packages (from tensorflow) (2.0.7)\n",
      "Requirement already satisfied: grpcio<2.0,>=1.24.3 in c:\\users\\foold\\appdata\\local\\programs\\python\\python310\\lib\\site-packages (from tensorflow) (1.48.1)\n",
      "Requirement already satisfied: numpy>=1.20 in c:\\users\\foold\\appdata\\local\\programs\\python\\python310\\lib\\site-packages (from tensorflow) (1.23.2)\n",
      "Requirement already satisfied: six>=1.12.0 in c:\\users\\foold\\appdata\\local\\programs\\python\\python310\\lib\\site-packages (from tensorflow) (1.16.0)\n",
      "Requirement already satisfied: h5py>=2.9.0 in c:\\users\\foold\\appdata\\local\\programs\\python\\python310\\lib\\site-packages (from tensorflow) (3.7.0)\n",
      "Requirement already satisfied: astunparse>=1.6.0 in c:\\users\\foold\\appdata\\local\\programs\\python\\python310\\lib\\site-packages (from tensorflow) (1.6.3)\n",
      "Requirement already satisfied: keras<2.11,>=2.10.0 in c:\\users\\foold\\appdata\\local\\programs\\python\\python310\\lib\\site-packages (from tensorflow) (2.10.0)\n",
      "Requirement already satisfied: libclang>=13.0.0 in c:\\users\\foold\\appdata\\local\\programs\\python\\python310\\lib\\site-packages (from tensorflow) (14.0.6)\n",
      "Requirement already satisfied: opt-einsum>=2.3.2 in c:\\users\\foold\\appdata\\local\\programs\\python\\python310\\lib\\site-packages (from tensorflow) (3.3.0)\n",
      "Requirement already satisfied: keras-preprocessing>=1.1.1 in c:\\users\\foold\\appdata\\local\\programs\\python\\python310\\lib\\site-packages (from tensorflow) (1.1.2)\n",
      "Requirement already satisfied: tensorflow-estimator<2.11,>=2.10.0 in c:\\users\\foold\\appdata\\local\\programs\\python\\python310\\lib\\site-packages (from tensorflow) (2.10.0)\n",
      "Requirement already satisfied: termcolor>=1.1.0 in c:\\users\\foold\\appdata\\local\\programs\\python\\python310\\lib\\site-packages (from tensorflow) (1.1.0)\n",
      "Requirement already satisfied: wheel<1.0,>=0.23.0 in c:\\users\\foold\\appdata\\local\\programs\\python\\python310\\lib\\site-packages (from astunparse>=1.6.0->tensorflow) (0.37.1)\n",
      "Requirement already satisfied: werkzeug>=1.0.1 in c:\\users\\foold\\appdata\\local\\programs\\python\\python310\\lib\\site-packages (from tensorboard<2.11,>=2.10->tensorflow) (2.2.2)\n",
      "Requirement already satisfied: markdown>=2.6.8 in c:\\users\\foold\\appdata\\local\\programs\\python\\python310\\lib\\site-packages (from tensorboard<2.11,>=2.10->tensorflow) (3.4.1)\n",
      "Requirement already satisfied: google-auth-oauthlib<0.5,>=0.4.1 in c:\\users\\foold\\appdata\\local\\programs\\python\\python310\\lib\\site-packages (from tensorboard<2.11,>=2.10->tensorflow) (0.4.6)\n",
      "Requirement already satisfied: tensorboard-data-server<0.7.0,>=0.6.0 in c:\\users\\foold\\appdata\\local\\programs\\python\\python310\\lib\\site-packages (from tensorboard<2.11,>=2.10->tensorflow) (0.6.1)\n",
      "Requirement already satisfied: google-auth<3,>=1.6.3 in c:\\users\\foold\\appdata\\local\\programs\\python\\python310\\lib\\site-packages (from tensorboard<2.11,>=2.10->tensorflow) (2.11.0)\n",
      "Requirement already satisfied: requests<3,>=2.21.0 in c:\\users\\foold\\appdata\\local\\programs\\python\\python310\\lib\\site-packages (from tensorboard<2.11,>=2.10->tensorflow) (2.28.1)\n",
      "Requirement already satisfied: tensorboard-plugin-wit>=1.6.0 in c:\\users\\foold\\appdata\\local\\programs\\python\\python310\\lib\\site-packages (from tensorboard<2.11,>=2.10->tensorflow) (1.8.1)\n",
      "Requirement already satisfied: pyparsing!=3.0.5,>=2.0.2 in c:\\users\\foold\\appdata\\local\\programs\\python\\python310\\lib\\site-packages (from packaging->tensorflow) (3.0.9)\n",
      "Requirement already satisfied: rsa<5,>=3.1.4 in c:\\users\\foold\\appdata\\local\\programs\\python\\python310\\lib\\site-packages (from google-auth<3,>=1.6.3->tensorboard<2.11,>=2.10->tensorflow) (4.9)\n",
      "Requirement already satisfied: pyasn1-modules>=0.2.1 in c:\\users\\foold\\appdata\\local\\programs\\python\\python310\\lib\\site-packages (from google-auth<3,>=1.6.3->tensorboard<2.11,>=2.10->tensorflow) (0.2.8)\n",
      "Requirement already satisfied: cachetools<6.0,>=2.0.0 in c:\\users\\foold\\appdata\\local\\programs\\python\\python310\\lib\\site-packages (from google-auth<3,>=1.6.3->tensorboard<2.11,>=2.10->tensorflow) (5.2.0)\n",
      "Requirement already satisfied: requests-oauthlib>=0.7.0 in c:\\users\\foold\\appdata\\local\\programs\\python\\python310\\lib\\site-packages (from google-auth-oauthlib<0.5,>=0.4.1->tensorboard<2.11,>=2.10->tensorflow) (1.3.1)\n",
      "Requirement already satisfied: certifi>=2017.4.17 in c:\\users\\foold\\appdata\\local\\programs\\python\\python310\\lib\\site-packages (from requests<3,>=2.21.0->tensorboard<2.11,>=2.10->tensorflow) (2022.6.15)\n",
      "Requirement already satisfied: idna<4,>=2.5 in c:\\users\\foold\\appdata\\local\\programs\\python\\python310\\lib\\site-packages (from requests<3,>=2.21.0->tensorboard<2.11,>=2.10->tensorflow) (3.3)\n",
      "Requirement already satisfied: urllib3<1.27,>=1.21.1 in c:\\users\\foold\\appdata\\local\\programs\\python\\python310\\lib\\site-packages (from requests<3,>=2.21.0->tensorboard<2.11,>=2.10->tensorflow) (1.26.12)\n",
      "Requirement already satisfied: charset-normalizer<3,>=2 in c:\\users\\foold\\appdata\\local\\programs\\python\\python310\\lib\\site-packages (from requests<3,>=2.21.0->tensorboard<2.11,>=2.10->tensorflow) (2.1.1)\n",
      "Requirement already satisfied: MarkupSafe>=2.1.1 in c:\\users\\foold\\appdata\\local\\programs\\python\\python310\\lib\\site-packages (from werkzeug>=1.0.1->tensorboard<2.11,>=2.10->tensorflow) (2.1.1)\n",
      "Requirement already satisfied: pyasn1<0.5.0,>=0.4.6 in c:\\users\\foold\\appdata\\local\\programs\\python\\python310\\lib\\site-packages (from pyasn1-modules>=0.2.1->google-auth<3,>=1.6.3->tensorboard<2.11,>=2.10->tensorflow) (0.4.8)\n",
      "Requirement already satisfied: oauthlib>=3.0.0 in c:\\users\\foold\\appdata\\local\\programs\\python\\python310\\lib\\site-packages (from requests-oauthlib>=0.7.0->google-auth-oauthlib<0.5,>=0.4.1->tensorboard<2.11,>=2.10->tensorflow) (3.2.0)\n",
      "Note: you may need to restart the kernel to use updated packages.\n"
     ]
    },
    {
     "name": "stderr",
     "output_type": "stream",
     "text": [
      "WARNING: You are using pip version 22.0.4; however, version 22.2.2 is available.\n",
      "You should consider upgrading via the 'c:\\Users\\foold\\AppData\\Local\\Programs\\Python\\Python310\\python.exe -m pip install --upgrade pip' command.\n"
     ]
    },
    {
     "name": "stdout",
     "output_type": "stream",
     "text": [
      "Requirement already satisfied: gtts in c:\\users\\foold\\appdata\\local\\programs\\python\\python310\\lib\\site-packages (2.2.4)\n",
      "Requirement already satisfied: six in c:\\users\\foold\\appdata\\local\\programs\\python\\python310\\lib\\site-packages (from gtts) (1.16.0)\n",
      "Requirement already satisfied: click in c:\\users\\foold\\appdata\\local\\programs\\python\\python310\\lib\\site-packages (from gtts) (8.1.3)\n",
      "Requirement already satisfied: requests in c:\\users\\foold\\appdata\\local\\programs\\python\\python310\\lib\\site-packages (from gtts) (2.28.1)\n",
      "Requirement already satisfied: colorama in c:\\users\\foold\\appdata\\roaming\\python\\python310\\site-packages (from click->gtts) (0.4.5)\n",
      "Requirement already satisfied: idna<4,>=2.5 in c:\\users\\foold\\appdata\\local\\programs\\python\\python310\\lib\\site-packages (from requests->gtts) (3.3)\n",
      "Requirement already satisfied: urllib3<1.27,>=1.21.1 in c:\\users\\foold\\appdata\\local\\programs\\python\\python310\\lib\\site-packages (from requests->gtts) (1.26.12)\n",
      "Requirement already satisfied: certifi>=2017.4.17 in c:\\users\\foold\\appdata\\local\\programs\\python\\python310\\lib\\site-packages (from requests->gtts) (2022.6.15)\n",
      "Requirement already satisfied: charset-normalizer<3,>=2 in c:\\users\\foold\\appdata\\local\\programs\\python\\python310\\lib\\site-packages (from requests->gtts) (2.1.1)\n",
      "Note: you may need to restart the kernel to use updated packages.\n"
     ]
    },
    {
     "name": "stderr",
     "output_type": "stream",
     "text": [
      "WARNING: You are using pip version 22.0.4; however, version 22.2.2 is available.\n",
      "You should consider upgrading via the 'c:\\Users\\foold\\AppData\\Local\\Programs\\Python\\Python310\\python.exe -m pip install --upgrade pip' command.\n"
     ]
    },
    {
     "name": "stdout",
     "output_type": "stream",
     "text": [
      "Requirement already satisfied: playsound in c:\\users\\foold\\appdata\\local\\programs\\python\\python310\\lib\\site-packages (1.3.0)\n",
      "Note: you may need to restart the kernel to use updated packages.\n"
     ]
    },
    {
     "name": "stderr",
     "output_type": "stream",
     "text": [
      "WARNING: You are using pip version 22.0.4; however, version 22.2.2 is available.\n",
      "You should consider upgrading via the 'c:\\Users\\foold\\AppData\\Local\\Programs\\Python\\Python310\\python.exe -m pip install --upgrade pip' command.\n"
     ]
    },
    {
     "name": "stdout",
     "output_type": "stream",
     "text": [
      "Requirement already satisfied: pygame in c:\\users\\foold\\appdata\\local\\programs\\python\\python310\\lib\\site-packages (2.1.2)Note: you may need to restart the kernel to use updated packages.\n",
      "\n"
     ]
    },
    {
     "name": "stderr",
     "output_type": "stream",
     "text": [
      "WARNING: You are using pip version 22.0.4; however, version 22.2.2 is available.\n",
      "You should consider upgrading via the 'c:\\Users\\foold\\AppData\\Local\\Programs\\Python\\Python310\\python.exe -m pip install --upgrade pip' command.\n"
     ]
    }
   ],
   "source": [
    "%pip install nltk\n",
    "%pip install numpy\n",
    "%pip install keras\n",
    "%pip install tensorflow\n",
    "%pip install gtts\n",
    "%pip install playsound \n",
    "%pip install pygame"
   ]
  },
  {
   "cell_type": "code",
   "execution_count": 2,
   "metadata": {},
   "outputs": [
    {
     "name": "stderr",
     "output_type": "stream",
     "text": [
      "[nltk_data] Downloading package omw-1.4 to\n",
      "[nltk_data]     C:\\Users\\foold\\AppData\\Roaming\\nltk_data...\n",
      "[nltk_data]   Package omw-1.4 is already up-to-date!\n",
      "[nltk_data] Downloading package punkt to\n",
      "[nltk_data]     C:\\Users\\foold\\AppData\\Roaming\\nltk_data...\n",
      "[nltk_data]   Package punkt is already up-to-date!\n",
      "[nltk_data] Downloading package wordnet to\n",
      "[nltk_data]     C:\\Users\\foold\\AppData\\Roaming\\nltk_data...\n",
      "[nltk_data]   Package wordnet is already up-to-date!\n"
     ]
    },
    {
     "name": "stdout",
     "output_type": "stream",
     "text": [
      "pygame 2.1.2 (SDL 2.0.18, Python 3.10.5)\n",
      "Hello from the pygame community. https://www.pygame.org/contribute.html\n"
     ]
    }
   ],
   "source": [
    "import nltk\n",
    "nltk.download('omw-1.4')\n",
    "nltk.download('punkt')\n",
    "nltk.download('wordnet')\n",
    "from nltk.stem import WordNetLemmatizer\n",
    "lemmatizer = WordNetLemmatizer()\n",
    "import json\n",
    "import pickle\n",
    "import os\n",
    "import numpy as np\n",
    "from keras.models import Sequential\n",
    "from keras.layers import Dense, Activation, Dropout\n",
    "from tensorflow.keras.optimizers import SGD\n",
    "import random\n",
    "from gtts import gTTS \n",
    "from pygame import mixer"
   ]
  },
  {
   "cell_type": "code",
   "execution_count": 3,
   "metadata": {},
   "outputs": [
    {
     "name": "stderr",
     "output_type": "stream",
     "text": [
      "'apt-get' n�o � reconhecido como um comando interno\n",
      "ou externo, um programa oper�vel ou um arquivo em lotes.\n"
     ]
    }
   ],
   "source": [
    "### CREATE VIRTUAL DISPLAY ###\n",
    "!apt-get install -y xvfb # Install X Virtual Frame Buffer\n",
    "import os\n",
    "os.system('Xvfb :1 -screen 0 1600x1200x16  &')    # create virtual display with size 1600x1200 and 16 bit color. Color can be changed to 24 or 8\n",
    "os.environ['DISPLAY']=':1.0'    # tell X clients to use our virtual DISPLAY :1.0."
   ]
  },
  {
   "cell_type": "code",
   "execution_count": 4,
   "metadata": {},
   "outputs": [],
   "source": [
    "words=[]\n",
    "classes = []\n",
    "documents = []\n",
    "ignore_words = ['?', '!']\n",
    "data_file = open('path to intents.json').read()\n",
    "intents = json.loads(data_file)"
   ]
  },
  {
   "cell_type": "code",
   "execution_count": 5,
   "metadata": {},
   "outputs": [],
   "source": [
    "for intent in intents['intents']:\n",
    "    for pattern in intent['patterns']:\n",
    "\n",
    "        # take each word and tokenize it\n",
    "        w = nltk.word_tokenize(pattern)\n",
    "        words.extend(w)\n",
    "        # adding documents\n",
    "        documents.append((w, intent['tag']))\n",
    "\n",
    "        # adding classes to our class list\n",
    "        if intent['tag'] not in classes:\n",
    "            classes.append(intent['tag'])"
   ]
  },
  {
   "cell_type": "code",
   "execution_count": 6,
   "metadata": {},
   "outputs": [
    {
     "name": "stdout",
     "output_type": "stream",
     "text": [
      "127 documents\n",
      "31 classes ['God', 'about me', 'adverse_drug', 'alive', 'blood_pressure', 'blood_pressure_search', 'bookings', 'creator', 'friday', 'goodbye', 'google', 'greeting', 'hospital_search', 'hours', 'joke', 'killing', 'mopeds', 'myself', 'news', 'opentoday', 'options', 'payments', 'pharmacy_search', 'rental', 'stories', 'talk', 'tasks', 'thanks', 'today', 'weather', 'wikipedia']\n",
      "171 unique lemmatized words [\"'d\", \"'s\", ',', 'a', 'ability', 'about', 'accept', 'adverse', 'ai', 'alive', 'all', 'am', 'an', 'anyone', 'anything', 'are', 'at', 'awesome', 'be', 'behavior', 'blood', 'book', 'breathe', 'by', 'bye', 'cab', 'can', 'card', 'cash', 'causing', 'chatting', 'check', 'could', 'created', 'creator', 'credit', 'current', 'daddy', 'data', 'day', 'detail', 'do', 'doe', 'dont', 'drug', 'earth', 'entry', 'everyone', 'exists', 'father', 'feature', 'find', 'for', 'friday', 'funny', 'get', 'give', 'god', 'good', 'goodbye', 'google', 'googling', 'have', 'headline', 'hello', 'help', 'helpful', 'helping', 'hey', 'hi', 'history', 'hola', 'hospital', 'hotel', 'hour', 'how', 'i', 'id', 'identify', 'is', 'it', 'joke', 'kill', 'kind', 'know', 'later', 'laugh', 'like', 'list', 'load', 'locate', 'log', 'looking', 'lookup', 'make', 'management', 'mastercard', 'me', 'module', 'moped', 'mr.', 'murder', 'myself', 'name', 'nearby', 'news', 'next', 'nice', 'of', 'offered', 'on', 'only', 'open', 'patient', 'pharmacy', 'pressure', 'profile', 'provide', 'reaction', 'related', 'rent', 'reservation', 'restraunts', 'result', 'run', 'science', 'search', 'searching', 'see', 'show', 'sing', 'something', 'story', 'suitable', 'support', 'table', 'take', 'talk', 'task', 'tell', 'thank', 'thanks', 'that', 'the', 'there', 'this', 'ticket', 'till', 'time', 'to', 'today', 'top', 'transfer', 'u', 'up', 'update', 'vishal', 'want', 'we', 'weather', 'what', 'when', 'which', 'who', 'wiki', 'wikipedia', 'with', 'work', 'you', 'your', 'yourself']\n"
     ]
    }
   ],
   "source": [
    "words = [lemmatizer.lemmatize(w.lower()) for w in words if w not in ignore_words]\n",
    "words = sorted(list(set(words)))\n",
    "\n",
    "classes = sorted(list(set(classes)))\n",
    "\n",
    "print (len(documents), \"documents\")\n",
    "\n",
    "print (len(classes), \"classes\", classes)\n",
    "\n",
    "print (len(words), \"unique lemmatized words\", words)\n",
    "\n",
    "\n",
    "pickle.dump(words,open('words.pkl','wb'))\n",
    "pickle.dump(classes,open('classes.pkl','wb'))"
   ]
  },
  {
   "cell_type": "code",
   "execution_count": 7,
   "metadata": {},
   "outputs": [
    {
     "name": "stdout",
     "output_type": "stream",
     "text": [
      "Training data created\n"
     ]
    }
   ],
   "source": [
    "# initializing training data\n",
    "training = []\n",
    "output_empty = [0] * len(classes)\n",
    "for doc in documents:\n",
    "    # initializing bag of words\n",
    "    bag = []\n",
    "    # list of tokenized words for the pattern\n",
    "    pattern_words = doc[0]\n",
    "    # lemmatize each word - create base word, in attempt to represent related words\n",
    "    pattern_words = [lemmatizer.lemmatize(word.lower()) for word in pattern_words]\n",
    "    # create our bag of words array with 1, if word match found in current pattern\n",
    "    for w in words:\n",
    "        bag.append(1) if w in pattern_words else bag.append(0)\n",
    "\n",
    "    # output is a '0' for each tag and '1' for current tag (for each pattern)\n",
    "    output_row = list(output_empty)\n",
    "    output_row[classes.index(doc[1])] = 1\n",
    "\n",
    "    training.append([bag, output_row])\n",
    "# shuffle our features and turn into np.array\n",
    "random.shuffle(training)\n",
    "training = np.array(training, dtype=object)\n",
    "# create train and test lists. X - patterns, Y - intents\n",
    "train_x = list(training[:,0])\n",
    "train_y = list(training[:,1])\n",
    "print(\"Training data created\")"
   ]
  },
  {
   "cell_type": "code",
   "execution_count": 8,
   "metadata": {},
   "outputs": [
    {
     "name": "stdout",
     "output_type": "stream",
     "text": [
      "Epoch 1/90\n"
     ]
    },
    {
     "name": "stderr",
     "output_type": "stream",
     "text": [
      "c:\\Users\\foold\\AppData\\Local\\Programs\\Python\\Python310\\lib\\site-packages\\keras\\optimizers\\optimizer_v2\\gradient_descent.py:111: UserWarning: The `lr` argument is deprecated, use `learning_rate` instead.\n",
      "  super().__init__(name, **kwargs)\n"
     ]
    },
    {
     "name": "stdout",
     "output_type": "stream",
     "text": [
      "26/26 [==============================] - 0s 921us/step - loss: 3.4805 - accuracy: 0.0236\n",
      "Epoch 2/90\n",
      "26/26 [==============================] - 0s 801us/step - loss: 3.3827 - accuracy: 0.0866\n",
      "Epoch 3/90\n",
      "26/26 [==============================] - 0s 841us/step - loss: 3.3366 - accuracy: 0.0787\n",
      "Epoch 4/90\n",
      "26/26 [==============================] - 0s 801us/step - loss: 3.2933 - accuracy: 0.0787\n",
      "Epoch 5/90\n",
      "26/26 [==============================] - 0s 801us/step - loss: 3.2186 - accuracy: 0.1260\n",
      "Epoch 6/90\n",
      "26/26 [==============================] - 0s 881us/step - loss: 3.1186 - accuracy: 0.1575\n",
      "Epoch 7/90\n",
      "26/26 [==============================] - 0s 761us/step - loss: 2.9081 - accuracy: 0.1811\n",
      "Epoch 8/90\n",
      "26/26 [==============================] - 0s 841us/step - loss: 2.8136 - accuracy: 0.2520\n",
      "Epoch 9/90\n",
      "26/26 [==============================] - 0s 801us/step - loss: 2.6193 - accuracy: 0.2677\n",
      "Epoch 10/90\n",
      "26/26 [==============================] - 0s 841us/step - loss: 2.5063 - accuracy: 0.3465\n",
      "Epoch 11/90\n",
      "26/26 [==============================] - 0s 801us/step - loss: 2.3714 - accuracy: 0.4094\n",
      "Epoch 12/90\n",
      "26/26 [==============================] - 0s 881us/step - loss: 2.1839 - accuracy: 0.4173\n",
      "Epoch 13/90\n",
      "26/26 [==============================] - 0s 801us/step - loss: 2.0150 - accuracy: 0.4173\n",
      "Epoch 14/90\n",
      "26/26 [==============================] - 0s 841us/step - loss: 1.9490 - accuracy: 0.4409\n",
      "Epoch 15/90\n",
      "26/26 [==============================] - 0s 761us/step - loss: 1.9109 - accuracy: 0.4803\n",
      "Epoch 16/90\n",
      "26/26 [==============================] - 0s 721us/step - loss: 1.8185 - accuracy: 0.5118\n",
      "Epoch 17/90\n",
      "26/26 [==============================] - 0s 801us/step - loss: 1.6646 - accuracy: 0.5512\n",
      "Epoch 18/90\n",
      "26/26 [==============================] - 0s 801us/step - loss: 1.4322 - accuracy: 0.6063\n",
      "Epoch 19/90\n",
      "26/26 [==============================] - 0s 841us/step - loss: 1.5826 - accuracy: 0.5669\n",
      "Epoch 20/90\n",
      "26/26 [==============================] - 0s 881us/step - loss: 1.4518 - accuracy: 0.5906\n",
      "Epoch 21/90\n",
      "26/26 [==============================] - 0s 881us/step - loss: 1.4429 - accuracy: 0.5433\n",
      "Epoch 22/90\n",
      "26/26 [==============================] - 0s 1ms/step - loss: 1.2615 - accuracy: 0.6063\n",
      "Epoch 23/90\n",
      "26/26 [==============================] - 0s 921us/step - loss: 1.2084 - accuracy: 0.6142\n",
      "Epoch 24/90\n",
      "26/26 [==============================] - 0s 841us/step - loss: 1.1165 - accuracy: 0.6614\n",
      "Epoch 25/90\n",
      "26/26 [==============================] - 0s 761us/step - loss: 1.0205 - accuracy: 0.6693\n",
      "Epoch 26/90\n",
      "26/26 [==============================] - 0s 801us/step - loss: 1.0856 - accuracy: 0.6378\n",
      "Epoch 27/90\n",
      "26/26 [==============================] - 0s 761us/step - loss: 0.9772 - accuracy: 0.6535\n",
      "Epoch 28/90\n",
      "26/26 [==============================] - 0s 841us/step - loss: 1.0147 - accuracy: 0.6693\n",
      "Epoch 29/90\n",
      "26/26 [==============================] - 0s 801us/step - loss: 0.8602 - accuracy: 0.7402\n",
      "Epoch 30/90\n",
      "26/26 [==============================] - 0s 761us/step - loss: 0.8354 - accuracy: 0.7795\n",
      "Epoch 31/90\n",
      "26/26 [==============================] - 0s 841us/step - loss: 0.7775 - accuracy: 0.7480\n",
      "Epoch 32/90\n",
      "26/26 [==============================] - 0s 801us/step - loss: 0.8681 - accuracy: 0.7717\n",
      "Epoch 33/90\n",
      "26/26 [==============================] - 0s 841us/step - loss: 0.8491 - accuracy: 0.7165\n",
      "Epoch 34/90\n",
      "26/26 [==============================] - 0s 801us/step - loss: 0.6649 - accuracy: 0.7874\n",
      "Epoch 35/90\n",
      "26/26 [==============================] - 0s 801us/step - loss: 0.6762 - accuracy: 0.8346\n",
      "Epoch 36/90\n",
      "26/26 [==============================] - 0s 841us/step - loss: 0.7052 - accuracy: 0.7953\n",
      "Epoch 37/90\n",
      "26/26 [==============================] - 0s 801us/step - loss: 0.5966 - accuracy: 0.8268\n",
      "Epoch 38/90\n",
      "26/26 [==============================] - 0s 841us/step - loss: 0.6690 - accuracy: 0.8110\n",
      "Epoch 39/90\n",
      "26/26 [==============================] - 0s 801us/step - loss: 0.6978 - accuracy: 0.7795\n",
      "Epoch 40/90\n",
      "26/26 [==============================] - 0s 761us/step - loss: 0.5802 - accuracy: 0.8189\n",
      "Epoch 41/90\n",
      "26/26 [==============================] - 0s 841us/step - loss: 0.6881 - accuracy: 0.8268\n",
      "Epoch 42/90\n",
      "26/26 [==============================] - 0s 841us/step - loss: 0.5475 - accuracy: 0.8268\n",
      "Epoch 43/90\n",
      "26/26 [==============================] - 0s 801us/step - loss: 0.6418 - accuracy: 0.7795\n",
      "Epoch 44/90\n",
      "26/26 [==============================] - 0s 841us/step - loss: 0.5232 - accuracy: 0.8268\n",
      "Epoch 45/90\n",
      "26/26 [==============================] - 0s 721us/step - loss: 0.6586 - accuracy: 0.8031\n",
      "Epoch 46/90\n",
      "26/26 [==============================] - 0s 801us/step - loss: 0.6235 - accuracy: 0.8425\n",
      "Epoch 47/90\n",
      "26/26 [==============================] - 0s 841us/step - loss: 0.5250 - accuracy: 0.8346\n",
      "Epoch 48/90\n",
      "26/26 [==============================] - 0s 761us/step - loss: 0.4301 - accuracy: 0.9055\n",
      "Epoch 49/90\n",
      "26/26 [==============================] - 0s 801us/step - loss: 0.4849 - accuracy: 0.8346\n",
      "Epoch 50/90\n",
      "26/26 [==============================] - 0s 801us/step - loss: 0.4710 - accuracy: 0.8425\n",
      "Epoch 51/90\n",
      "26/26 [==============================] - 0s 801us/step - loss: 0.4359 - accuracy: 0.8819\n",
      "Epoch 52/90\n",
      "26/26 [==============================] - 0s 761us/step - loss: 0.4163 - accuracy: 0.8740\n",
      "Epoch 53/90\n",
      "26/26 [==============================] - 0s 761us/step - loss: 0.4473 - accuracy: 0.8740\n",
      "Epoch 54/90\n",
      "26/26 [==============================] - 0s 721us/step - loss: 0.3605 - accuracy: 0.8740\n",
      "Epoch 55/90\n",
      "26/26 [==============================] - 0s 801us/step - loss: 0.3713 - accuracy: 0.8898\n",
      "Epoch 56/90\n",
      "26/26 [==============================] - 0s 881us/step - loss: 0.3758 - accuracy: 0.8661\n",
      "Epoch 57/90\n",
      "26/26 [==============================] - 0s 921us/step - loss: 0.2844 - accuracy: 0.9213\n",
      "Epoch 58/90\n",
      "26/26 [==============================] - 0s 881us/step - loss: 0.4397 - accuracy: 0.8346\n",
      "Epoch 59/90\n",
      "26/26 [==============================] - 0s 881us/step - loss: 0.4499 - accuracy: 0.8740\n",
      "Epoch 60/90\n",
      "26/26 [==============================] - 0s 921us/step - loss: 0.3177 - accuracy: 0.9055\n",
      "Epoch 61/90\n",
      "26/26 [==============================] - 0s 881us/step - loss: 0.3914 - accuracy: 0.8504\n",
      "Epoch 62/90\n",
      "26/26 [==============================] - 0s 841us/step - loss: 0.4470 - accuracy: 0.8504\n",
      "Epoch 63/90\n",
      "26/26 [==============================] - 0s 961us/step - loss: 0.4283 - accuracy: 0.8504\n",
      "Epoch 64/90\n",
      "26/26 [==============================] - 0s 881us/step - loss: 0.3366 - accuracy: 0.8976\n",
      "Epoch 65/90\n",
      "26/26 [==============================] - 0s 921us/step - loss: 0.2807 - accuracy: 0.8898\n",
      "Epoch 66/90\n",
      "26/26 [==============================] - 0s 921us/step - loss: 0.3452 - accuracy: 0.8740\n",
      "Epoch 67/90\n",
      "26/26 [==============================] - 0s 881us/step - loss: 0.3402 - accuracy: 0.8898\n",
      "Epoch 68/90\n",
      "26/26 [==============================] - 0s 841us/step - loss: 0.2980 - accuracy: 0.8976\n",
      "Epoch 69/90\n",
      "26/26 [==============================] - 0s 841us/step - loss: 0.3676 - accuracy: 0.8898\n",
      "Epoch 70/90\n",
      "26/26 [==============================] - 0s 841us/step - loss: 0.2512 - accuracy: 0.9134\n",
      "Epoch 71/90\n",
      "26/26 [==============================] - 0s 881us/step - loss: 0.3926 - accuracy: 0.8819\n",
      "Epoch 72/90\n",
      "26/26 [==============================] - 0s 881us/step - loss: 0.2619 - accuracy: 0.9055\n",
      "Epoch 73/90\n",
      "26/26 [==============================] - 0s 801us/step - loss: 0.3307 - accuracy: 0.8898\n",
      "Epoch 74/90\n",
      "26/26 [==============================] - 0s 801us/step - loss: 0.3590 - accuracy: 0.8819\n",
      "Epoch 75/90\n",
      "26/26 [==============================] - 0s 881us/step - loss: 0.3537 - accuracy: 0.9055\n",
      "Epoch 76/90\n",
      "26/26 [==============================] - 0s 881us/step - loss: 0.3003 - accuracy: 0.8898\n",
      "Epoch 77/90\n",
      "26/26 [==============================] - 0s 801us/step - loss: 0.2899 - accuracy: 0.9055\n",
      "Epoch 78/90\n",
      "26/26 [==============================] - 0s 801us/step - loss: 0.3398 - accuracy: 0.8976\n",
      "Epoch 79/90\n",
      "26/26 [==============================] - 0s 761us/step - loss: 0.3344 - accuracy: 0.8740\n",
      "Epoch 80/90\n",
      "26/26 [==============================] - 0s 761us/step - loss: 0.2739 - accuracy: 0.9134\n",
      "Epoch 81/90\n",
      "26/26 [==============================] - 0s 801us/step - loss: 0.2310 - accuracy: 0.9213\n",
      "Epoch 82/90\n",
      "26/26 [==============================] - 0s 761us/step - loss: 0.3477 - accuracy: 0.9055\n",
      "Epoch 83/90\n",
      "26/26 [==============================] - 0s 761us/step - loss: 0.2842 - accuracy: 0.9213\n",
      "Epoch 84/90\n",
      "26/26 [==============================] - 0s 921us/step - loss: 0.2971 - accuracy: 0.8740\n",
      "Epoch 85/90\n",
      "26/26 [==============================] - 0s 921us/step - loss: 0.3407 - accuracy: 0.8583\n",
      "Epoch 86/90\n",
      "26/26 [==============================] - 0s 921us/step - loss: 0.3339 - accuracy: 0.8504\n",
      "Epoch 87/90\n",
      "26/26 [==============================] - 0s 841us/step - loss: 0.3015 - accuracy: 0.8976\n",
      "Epoch 88/90\n",
      "26/26 [==============================] - 0s 921us/step - loss: 0.2166 - accuracy: 0.9291\n",
      "Epoch 89/90\n",
      "26/26 [==============================] - 0s 921us/step - loss: 0.3343 - accuracy: 0.8819\n",
      "Epoch 90/90\n",
      "26/26 [==============================] - 0s 881us/step - loss: 0.2812 - accuracy: 0.9055\n",
      "model created\n"
     ]
    }
   ],
   "source": [
    "# Create model - 3 layers. First layer 128 neurons, second layer 64 neurons and 3rd output layer contains number of neurons\n",
    "# equal to number of intents to predict output intent with softmax\n",
    "model = Sequential()\n",
    "model.add(Dense(128, input_shape=(len(train_x[0]),), activation='relu'))\n",
    "model.add(Dropout(0.5))\n",
    "model.add(Dense(64, activation='relu'))\n",
    "model.add(Dropout(0.5))\n",
    "model.add(Dense(len(train_y[0]), activation='softmax'))\n",
    "\n",
    "# Compile model. Stochastic gradient descent with Nesterov accelerated gradient gives good results for this model\n",
    "sgd = SGD(lr=0.01, decay=1e-6, momentum=0.9, nesterov=True)\n",
    "model.compile(loss='categorical_crossentropy', optimizer=sgd, metrics=['accuracy'])\n",
    "\n",
    "#fitting and saving the model\n",
    "hist = model.fit(np.array(train_x), np.array(train_y), epochs=90, batch_size=5, verbose=1)\n",
    "model.save('chatbot_model.h5', hist)\n",
    "\n",
    "print(\"model created\")"
   ]
  },
  {
   "cell_type": "code",
   "execution_count": 9,
   "metadata": {},
   "outputs": [],
   "source": [
    "from keras.models import load_model\n",
    "model = load_model('path to chatbot_model.h5')\n",
    "import json\n",
    "import random\n",
    "intents = json.loads(open('path to intents.json').read())\n",
    "words = pickle.load(open('path to words.pkl','rb'))\n",
    "classes = pickle.load(open('path to classes.pkl','rb'))"
   ]
  },
  {
   "cell_type": "code",
   "execution_count": 10,
   "metadata": {},
   "outputs": [],
   "source": [
    "def clean_up_sentence(sentence):\n",
    "    sentence_words = nltk.word_tokenize(sentence)\n",
    "    sentence_words = [lemmatizer.lemmatize(word.lower()) for word in sentence_words]\n",
    "    return sentence_words\n",
    "\n",
    "# return bag of words array: 0 or 1 for each word in the bag that exists in the sentence\n",
    "\n",
    "def bow(sentence, words, show_details=True):\n",
    "    # tokenize the pattern\n",
    "    sentence_words = clean_up_sentence(sentence)\n",
    "    # bag of words - matrix of N words, vocabulary matrix\n",
    "    bag = [0]*len(words)\n",
    "    for s in sentence_words:\n",
    "        for i,w in enumerate(words):\n",
    "            if w == s:\n",
    "                # assign 1 if current word is in the vocabulary position\n",
    "                bag[i] = 1\n",
    "                if show_details:\n",
    "                    print (\"found in bag: %s\" % w)\n",
    "    return(np.array(bag))\n",
    "\n",
    "def predict_class(sentence, model):\n",
    "    # filter out predictions below a threshold\n",
    "    p = bow(sentence, words,show_details=False)\n",
    "    res = model.predict(np.array([p]))[0]\n",
    "    ERROR_THRESHOLD = 0.25\n",
    "    results = [[i,r] for i,r in enumerate(res) if r>ERROR_THRESHOLD]\n",
    "    # sort by strength of probability\n",
    "    results.sort(key=lambda x: x[1], reverse=True)\n",
    "    return_list = []\n",
    "    for r in results:\n",
    "        return_list.append({\"intent\": classes[r[0]], \"probability\": str(r[1])})\n",
    "    return return_list\n",
    "\n",
    "def getResponse(ints, intents_json):\n",
    "    tag = ints[0]['intent']\n",
    "    list_of_intents = intents_json['intents']\n",
    "    for i in list_of_intents:\n",
    "        if(i['tag']== tag):\n",
    "            result = random.choice(i['responses'])\n",
    "            break\n",
    "    return result\n",
    "\n",
    "def chatbot_response(msg):\n",
    "    ints = predict_class(msg, model)\n",
    "    res = getResponse(ints, intents)\n",
    "    return res"
   ]
  },
  {
   "cell_type": "code",
   "execution_count": 11,
   "metadata": {},
   "outputs": [
    {
     "name": "stdout",
     "output_type": "stream",
     "text": [
      "1/1 [==============================] - 0s 61ms/step\n",
      "1/1 [==============================] - 0s 17ms/step\n"
     ]
    }
   ],
   "source": [
    "#Creating GUI with tkinter\n",
    "import tkinter\n",
    "from tkinter import *\n",
    "import time\n",
    "\n",
    "def send():\n",
    "    msg = EntryBox.get(\"1.0\",'end-1c').strip()\n",
    "    EntryBox.delete(\"0.0\",END)\n",
    "\n",
    "    if msg != '':\n",
    "        ChatLog.config(state=NORMAL)\n",
    "        ChatLog.insert(END, \"You: \" + msg + '\\n\\n')\n",
    "        ChatLog.config(foreground=\"#442265\", font=(\"Verdana\", 12 ))\n",
    "\n",
    "        res = chatbot_response(msg)\n",
    "        ChatLog.insert(END, \"Bot: \" + res + '\\n\\n')\n",
    "\n",
    "        ChatLog.config(state=DISABLED)\n",
    "        ChatLog.yview(END)\n",
    "    \n",
    "    # The text that you want to convert to audio\n",
    "    mytext = res\n",
    "        \n",
    "    # Language in which you want to convert\n",
    "    language = 'en'\n",
    "        \n",
    "    # Passing the text and language to the engine, \n",
    "    # here we have marked slow=False. Which tells \n",
    "    # the module that the converted audio should \n",
    "    # have a high speed\n",
    "    myobj = gTTS(text=mytext, lang=language, slow=False)\n",
    "        \n",
    "    # Saving the converted audio in a mp3 file named\n",
    "    # answer \n",
    "    myobj.save(\"answer.mp3\")\n",
    "\n",
    "\n",
    "mixer.init()\n",
    "mixer.music.unload()\n",
    "def play():\n",
    "    mixer.music.load(\"answer.mp3\")\n",
    "    mixer.music.play()\n",
    "    if os.path.exists('answer.mp3'):\n",
    "        while mixer.music.get_busy():\n",
    "            pass\n",
    "        mixer.music.unload()\n",
    "        os.remove('answer.mp3')\n",
    "        \n",
    "\n",
    "base = Tk()\n",
    "base.title(\"Hello\")\n",
    "base.geometry(\"400x500\")\n",
    "base.resizable(width=FALSE, height=FALSE)\n",
    "\n",
    "#Create Chat window\n",
    "ChatLog = Text(base, bd=0, bg=\"white\", height=\"8\", width=\"50\", font=\"Arial\",)\n",
    "\n",
    "ChatLog.config(state=DISABLED)\n",
    "\n",
    "#Bind scrollbar to Chat window\n",
    "scrollbar = Scrollbar(base, command=ChatLog.yview, cursor=\"heart\")\n",
    "ChatLog['yscrollcommand'] = scrollbar.set\n",
    "\n",
    "#Create Button to send message\n",
    "SendButton = Button(base, font=(\"Verdana\",12,'bold'), text=\"Send\", width=\"12\", height=5,\n",
    "                    bd=0, bg=\"#32de97\", activebackground=\"#3c9d9b\",fg='#ffffff',\n",
    "                    command=lambda: [send(), play()])\n",
    "    \n",
    "\n",
    "#Create the box to enter message\n",
    "EntryBox = Text(base, bd=0, bg=\"white\",width=\"29\", height=\"5\", font=\"Arial\")\n",
    "#EntryBox.bind(\"<Return>\", send)\n",
    "\n",
    "\n",
    "#Place all components on the screen\n",
    "scrollbar.place(x=376,y=6, height=386)\n",
    "ChatLog.place(x=6,y=6, height=386, width=370)\n",
    "EntryBox.place(x=128, y=401, height=90, width=265)\n",
    "SendButton.place(x=6, y=401, height=90)\n",
    "\n",
    "base.mainloop()"
   ]
  }
 ],
 "metadata": {
  "kernelspec": {
   "display_name": "Python 3.10.5 64-bit",
   "language": "python",
   "name": "python3"
  },
  "language_info": {
   "codemirror_mode": {
    "name": "ipython",
    "version": 3
   },
   "file_extension": ".py",
   "mimetype": "text/x-python",
   "name": "python",
   "nbconvert_exporter": "python",
   "pygments_lexer": "ipython3",
   "version": "3.10.5"
  },
  "orig_nbformat": 4,
  "vscode": {
   "interpreter": {
    "hash": "85bb6787267ea739aa15a1b7cb79864fd980c496881e71de036f3df76db0c366"
   }
  }
 },
 "nbformat": 4,
 "nbformat_minor": 2
}
